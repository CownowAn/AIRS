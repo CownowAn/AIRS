{
  "cells": [
    {
      "cell_type": "markdown",
      "metadata": {
        "id": "7vsfte3ZLNpf"
      },
      "source": [
        "# Assignment 1: Tabular Reinforcement Learning\n",
        "\n",
        "\n"
      ]
    },
    {
      "cell_type": "markdown",
      "metadata": {
        "id": "WW6e7Qg_LNpg"
      },
      "source": [
        "|    Student Name     |        Student ID         |\n",
        "|:-------------------:|:-------------------------:|\n",
        "| Sohyun An | 306528230 |\n",
        "\n",
        "------"
      ]
    },
    {
      "cell_type": "markdown",
      "metadata": {
        "id": "mSYE_yOPLNpg"
      },
      "source": [
        "Welcome to the assignment 1 of our reinforcement learning course. The objective of this assignment is for you to understand the classic methods used in tabular RL.\n",
        "\n",
        "This assignment has the following sections:\n",
        "\n",
        " - Section 1: Warm-up on the RL environment (35 points)\n",
        " - Section 2: Implementation of the model-based family of algorithms: policy iteration and value iteration. (65 points)\n",
        "\n",
        "You need to go through this self-contained notebook, with dozens of **TODO**s are scattered in the cells. You need to finish all TODOs.\n",
        "\n",
        "You are encouraged to add more code on extra cells at the end of each section to investigate the problems you think interesting. At the end of the file, we leave a place for you to write comments optionally (Yes, please give us either negative or positive rewards so that we can keep improving the assignment!).\n",
        "\n",
        "Please report any code bugs to us via [**GitHub issues**](https://github.com/ucla-rlcourse/assignment-2022fall).\n",
        "\n",
        "Before you get start, remember to follow the instruction at https://github.com/ucla-rlcourse/assignment-2022fall/tree/main/assignment0\n",
        "to set up your python environment.\n",
        "\n"
      ]
    },
    {
      "cell_type": "markdown",
      "metadata": {
        "id": "RIbduGAOLNph"
      },
      "source": [
        "## Dependencies\n",
        "\n",
        "\n",
        "This assignment requires the following dependencies:\n",
        "\n",
        "1. `gymnasium==0.29.1`\n",
        "2. `numpy`\n",
        "3. `scipy`\n",
        "\n",
        "You can install all of them through the following cell:"
      ]
    },
    {
      "cell_type": "code",
      "execution_count": 1,
      "metadata": {
        "scrolled": true,
        "colab": {
          "base_uri": "https://localhost:8080/"
        },
        "id": "qQPl1l_tLNph",
        "outputId": "302df11f-d9b6-45ef-bd61-36cd84ecfeda"
      },
      "outputs": [
        {
          "output_type": "stream",
          "name": "stdout",
          "text": [
            "Requirement already satisfied: pip in /usr/local/lib/python3.11/dist-packages (24.1.2)\n",
            "Collecting pip\n",
            "  Downloading pip-24.3.1-py3-none-any.whl.metadata (3.7 kB)\n",
            "Downloading pip-24.3.1-py3-none-any.whl (1.8 MB)\n",
            "\u001b[2K   \u001b[90m━━━━━━━━━━━━━━━━━━━━━━━━━━━━━━━━━━━━━━━━\u001b[0m \u001b[32m1.8/1.8 MB\u001b[0m \u001b[31m60.3 MB/s\u001b[0m eta \u001b[36m0:00:00\u001b[0m\n",
            "\u001b[?25hInstalling collected packages: pip\n",
            "  Attempting uninstall: pip\n",
            "    Found existing installation: pip 24.1.2\n",
            "    Uninstalling pip-24.1.2:\n",
            "      Successfully uninstalled pip-24.1.2\n",
            "Successfully installed pip-24.3.1\n",
            "Collecting mediapy\n",
            "  Downloading mediapy-1.2.2-py3-none-any.whl.metadata (4.8 kB)\n",
            "Requirement already satisfied: numpy in /usr/local/lib/python3.11/dist-packages (1.26.4)\n",
            "Requirement already satisfied: scipy in /usr/local/lib/python3.11/dist-packages (1.13.1)\n",
            "Collecting gymnasium==0.29.1\n",
            "  Downloading gymnasium-0.29.1-py3-none-any.whl.metadata (10 kB)\n",
            "Requirement already satisfied: cloudpickle>=1.2.0 in /usr/local/lib/python3.11/dist-packages (from gymnasium==0.29.1) (3.1.0)\n",
            "Requirement already satisfied: typing-extensions>=4.3.0 in /usr/local/lib/python3.11/dist-packages (from gymnasium==0.29.1) (4.12.2)\n",
            "Collecting farama-notifications>=0.0.1 (from gymnasium==0.29.1)\n",
            "  Downloading Farama_Notifications-0.0.4-py3-none-any.whl.metadata (558 bytes)\n",
            "Requirement already satisfied: pygame>=2.1.3 in /usr/local/lib/python3.11/dist-packages (from gymnasium[toy-text]==0.29.1) (2.6.1)\n",
            "Requirement already satisfied: ipython in /usr/local/lib/python3.11/dist-packages (from mediapy) (7.34.0)\n",
            "Requirement already satisfied: matplotlib in /usr/local/lib/python3.11/dist-packages (from mediapy) (3.10.0)\n",
            "Requirement already satisfied: Pillow in /usr/local/lib/python3.11/dist-packages (from mediapy) (11.1.0)\n",
            "Requirement already satisfied: setuptools>=18.5 in /usr/local/lib/python3.11/dist-packages (from ipython->mediapy) (75.1.0)\n",
            "Collecting jedi>=0.16 (from ipython->mediapy)\n",
            "  Downloading jedi-0.19.2-py2.py3-none-any.whl.metadata (22 kB)\n",
            "Requirement already satisfied: decorator in /usr/local/lib/python3.11/dist-packages (from ipython->mediapy) (4.4.2)\n",
            "Requirement already satisfied: pickleshare in /usr/local/lib/python3.11/dist-packages (from ipython->mediapy) (0.7.5)\n",
            "Requirement already satisfied: traitlets>=4.2 in /usr/local/lib/python3.11/dist-packages (from ipython->mediapy) (5.7.1)\n",
            "Requirement already satisfied: prompt-toolkit!=3.0.0,!=3.0.1,<3.1.0,>=2.0.0 in /usr/local/lib/python3.11/dist-packages (from ipython->mediapy) (3.0.48)\n",
            "Requirement already satisfied: pygments in /usr/local/lib/python3.11/dist-packages (from ipython->mediapy) (2.18.0)\n",
            "Requirement already satisfied: backcall in /usr/local/lib/python3.11/dist-packages (from ipython->mediapy) (0.2.0)\n",
            "Requirement already satisfied: matplotlib-inline in /usr/local/lib/python3.11/dist-packages (from ipython->mediapy) (0.1.7)\n",
            "Requirement already satisfied: pexpect>4.3 in /usr/local/lib/python3.11/dist-packages (from ipython->mediapy) (4.9.0)\n",
            "Requirement already satisfied: contourpy>=1.0.1 in /usr/local/lib/python3.11/dist-packages (from matplotlib->mediapy) (1.3.1)\n",
            "Requirement already satisfied: cycler>=0.10 in /usr/local/lib/python3.11/dist-packages (from matplotlib->mediapy) (0.12.1)\n",
            "Requirement already satisfied: fonttools>=4.22.0 in /usr/local/lib/python3.11/dist-packages (from matplotlib->mediapy) (4.55.3)\n",
            "Requirement already satisfied: kiwisolver>=1.3.1 in /usr/local/lib/python3.11/dist-packages (from matplotlib->mediapy) (1.4.8)\n",
            "Requirement already satisfied: packaging>=20.0 in /usr/local/lib/python3.11/dist-packages (from matplotlib->mediapy) (24.2)\n",
            "Requirement already satisfied: pyparsing>=2.3.1 in /usr/local/lib/python3.11/dist-packages (from matplotlib->mediapy) (3.2.1)\n",
            "Requirement already satisfied: python-dateutil>=2.7 in /usr/local/lib/python3.11/dist-packages (from matplotlib->mediapy) (2.8.2)\n",
            "Requirement already satisfied: parso<0.9.0,>=0.8.4 in /usr/local/lib/python3.11/dist-packages (from jedi>=0.16->ipython->mediapy) (0.8.4)\n",
            "Requirement already satisfied: ptyprocess>=0.5 in /usr/local/lib/python3.11/dist-packages (from pexpect>4.3->ipython->mediapy) (0.7.0)\n",
            "Requirement already satisfied: wcwidth in /usr/local/lib/python3.11/dist-packages (from prompt-toolkit!=3.0.0,!=3.0.1,<3.1.0,>=2.0.0->ipython->mediapy) (0.2.13)\n",
            "Requirement already satisfied: six>=1.5 in /usr/local/lib/python3.11/dist-packages (from python-dateutil>=2.7->matplotlib->mediapy) (1.17.0)\n",
            "Downloading gymnasium-0.29.1-py3-none-any.whl (953 kB)\n",
            "\u001b[2K   \u001b[90m━━━━━━━━━━━━━━━━━━━━━━━━━━━━━━━━━━━━━━━━\u001b[0m \u001b[32m953.9/953.9 kB\u001b[0m \u001b[31m29.5 MB/s\u001b[0m eta \u001b[36m0:00:00\u001b[0m\n",
            "\u001b[?25hDownloading mediapy-1.2.2-py3-none-any.whl (26 kB)\n",
            "Downloading Farama_Notifications-0.0.4-py3-none-any.whl (2.5 kB)\n",
            "Downloading jedi-0.19.2-py2.py3-none-any.whl (1.6 MB)\n",
            "\u001b[2K   \u001b[90m━━━━━━━━━━━━━━━━━━━━━━━━━━━━━━━━━━━━━━━━\u001b[0m \u001b[32m1.6/1.6 MB\u001b[0m \u001b[31m52.6 MB/s\u001b[0m eta \u001b[36m0:00:00\u001b[0m\n",
            "\u001b[?25hInstalling collected packages: farama-notifications, jedi, gymnasium, mediapy\n",
            "Successfully installed farama-notifications-0.0.4 gymnasium-0.29.1 jedi-0.19.2 mediapy-1.2.2\n"
          ]
        }
      ],
      "source": [
        "# If you already installed everything, you don't need to run this cell.\n",
        "# Install dependencies to your current python environment.\n",
        "\n",
        "!pip install -U pip\n",
        "!pip install mediapy numpy scipy \"gymnasium==0.29.1\" \"gymnasium[toy-text]==0.29.1\""
      ]
    },
    {
      "cell_type": "markdown",
      "metadata": {
        "id": "8OjLrOTWLNpi"
      },
      "source": [
        "Now start running the cells sequentially (by `ctrl + enter` or `shift + enter`) to avoid unnecessary errors by skipping some cells.\n",
        "\n",
        "\n",
        "## Section 1: Warm-up on the RL environment\n",
        "\n",
        "(35/100 points)\n",
        "\n",
        "In this section, we will go through the basic concepts of RL environments using OpenAI Gym. Besides, you will get the first sense of the toy environment we will use in the rest of the assignment.\n",
        "\n",
        "Every Gym environment should contain the following attributes:\n",
        "\n",
        "1. `env.step(action)` To advance the environment by one time step through applying `action`. Will return four things: `observation, reward, terminated, truncated, info`, wherein `terminated` is a boolean value indicating whether this **episode** is finished either by the agent successfully finishes the task or makes something wrong so the episode is not valid (like the agent dies), `truncated` is a boolean value indicating whether this episode reach the maximum step limit. We sometime use `done = terminated or truncated` as an indicator that an episode is ended. `info` is a dict containing some information the user is interested in.\n",
        "2. `env.reset()` To reset the environment, back to the initial state. Will return the initial observation of the new episode.\n",
        "3. `env.render()` To render the current state of the environment for human-being\n",
        "4. `env.action_space` The allowed action format. In our case, it is `Discrete(4)` which means the action is an integer in the range [0, 1, 2, 3]. Therefore, the `action` for `step(action)` should obey the limit of the action space.\n",
        "5. `env.observation_space` The observation space.\n",
        "\n",
        "\n",
        "Note that the word **episode** means the process that an agent interacts with the environment from the initial state to the terminal state. Within one episode, the agent will only receive one `done=True`, when it goes to the terminal state (the agent is dead or the game is over).\n",
        "\n",
        "We will use `FrozenLake8x8-v1` as our environment. In this environment, the agent controls the movement of a *character* in a grid world. Some tiles of the grid are walkable, and others are not, making to the agent falling into the water. Additionally, the movement direction of the agent is uncertain and only partially depends on the chosen direction. The agent is rewarded for finding a walkable path to a goal tile. The meaning of each character:\n",
        "\n",
        "1. S : starting point, safe\n",
        "2. F : frozen surface, safe\n",
        "3. H : hole, fall to your doom\n",
        "4. G : goal, where the frisbee is located\n"
      ]
    },
    {
      "cell_type": "code",
      "execution_count": 2,
      "metadata": {
        "id": "Sr-GXMTeLNpi"
      },
      "outputs": [],
      "source": [
        "# Run this cell without modification\n",
        "\n",
        "import time\n",
        "from typing import List, Callable\n",
        "\n",
        "# Import some packages that we need to use\n",
        "import gymnasium as gym\n",
        "import numpy as np\n",
        "# Prepare some useful functions\n",
        "from IPython.display import clear_output\n",
        "import mediapy as media\n",
        "import matplotlib.pyplot as plt\n",
        "%matplotlib inline\n",
        "\n",
        "\n",
        "def wait(sleep=0.2):\n",
        "    clear_output(wait=True)\n",
        "    time.sleep(sleep)\n",
        "\n",
        "\n",
        "def print_table(data):\n",
        "    if data.ndim == 2:\n",
        "        for i in range(data.shape[1]):\n",
        "            print(\"\\n=== The state value for action {} ===\".format(i))\n",
        "            print_table(data[:, i])\n",
        "        return\n",
        "    assert data.ndim == 1, data\n",
        "    if data.shape[0] == 16:  # FrozenLake-v0\n",
        "        text = \"+-----+-----+-----+-----+-----+\\n\" \\\n",
        "               \"|     |   0 |   1 |   2 |   3 |\\n\" \\\n",
        "               \"|-----+-----+-----+-----+-----+\\n\"\n",
        "        for row in range(4):\n",
        "            tmp = \"| {}   |{:.3f}|{:.3f}|{:.3f}|{:.3f}|\\n\" \\\n",
        "                  \"|     |     |     |     |     |\\n\" \\\n",
        "                  \"+-----+-----+-----+-----+-----+\\n\" \\\n",
        "                  \"\".format(\n",
        "                row, *[data[row * 4 + col] for col in range(4)]\n",
        "            )\n",
        "            text = text + tmp\n",
        "    else:\n",
        "        text = \"+-----+-----+-----State Value Mapping-----+-----+-----+\\n\" \\\n",
        "               \"|     |   0 |   1 |   2 |   3 |   4 |   5 |   6 |   7 |\\n\" \\\n",
        "               \"|-----+-----+-----+-----+-----+-----+-----+-----+-----|\\n\"\n",
        "        for row in range(8):\n",
        "            tmp = \"| {}   |{:.3f}|{:.3f}|{:.3f}|{:.3f}|{:.3f}|{:.3f}|{:.3f}|{\" \\\n",
        "                  \":.3f}|\\n\" \\\n",
        "                  \"|     |     |     |     |     |     |     |     |     |\\n\" \\\n",
        "                  \"+-----+-----+-----+-----+-----+-----+-----+-----+-----+\\n\" \\\n",
        "                  \"\".format(\n",
        "                row, *[data[row * 8 + col] for col in range(8)]\n",
        "            )\n",
        "            text = text + tmp\n",
        "    print(text)\n",
        "\n",
        "\n",
        "def test_random_policy(policy, env):\n",
        "    _acts = set()\n",
        "    for i in range(1000):\n",
        "        act = policy(0)\n",
        "        _acts.add(act)\n",
        "        assert env.action_space.contains(act), \"Out of the bound!\"\n",
        "    if len(_acts) != 1:\n",
        "        print(\n",
        "            \"[HINT] Though we call self.policy 'random policy', \"\n",
        "            \"we find that generating action randomly at the beginning \"\n",
        "            \"and then fixing it during updating values period lead to better \"\n",
        "            \"performance. Using a stochastic policy is not even work! \"\n",
        "        )"
      ]
    },
    {
      "cell_type": "markdown",
      "metadata": {
        "id": "xwKfHAhbLNpj"
      },
      "source": [
        "### Section 1.1: Make the environment\n",
        "\n",
        "You need to know\n",
        "\n",
        "1. How to make an environment\n",
        "2. How to set the random seed of environment\n",
        "3. What is observation space and action space"
      ]
    },
    {
      "cell_type": "code",
      "execution_count": 4,
      "metadata": {
        "colab": {
          "base_uri": "https://localhost:8080/"
        },
        "id": "1X1jPiIzLNpj",
        "outputId": "22015550-a4b8-4ec5-e29f-c7a1931fb85e"
      },
      "outputs": [
        {
          "output_type": "stream",
          "name": "stdout",
          "text": [
            "Current observation space: Discrete(64)\n",
            "Current action space: Discrete(4)\n",
            "0 in action space? True\n",
            "5 in action space? False\n"
          ]
        }
      ],
      "source": [
        "# Solve the TODOs and remove `pass`\n",
        "\n",
        "# TODO: Just a reminder. Do you add your name and student\n",
        "# ID in the table at top of the notebook?\n",
        "\n",
        "\n",
        "# Create the environment\n",
        "env = gym.make('FrozenLake8x8-v1', render_mode=\"ansi\")\n",
        "\n",
        "# You need to reset the environment immediately after instantiating env.\n",
        "env.reset(seed=0)  # TODO: uncomment this line\n",
        "\n",
        "print(\"Current observation space: {}\".format(env.observation_space))\n",
        "print(\"Current action space: {}\".format(env.action_space))\n",
        "print(\"0 in action space? {}\".format(env.action_space.contains(0)))\n",
        "print(\"5 in action space? {}\".format(env.action_space.contains(5)))\n"
      ]
    },
    {
      "cell_type": "code",
      "execution_count": 5,
      "metadata": {
        "colab": {
          "base_uri": "https://localhost:8080/",
          "height": 435
        },
        "id": "hdh3GvvkLNpj",
        "outputId": "09d6b0c6-e0a7-4a87-b3e7-3e6f214e549f"
      },
      "outputs": [
        {
          "output_type": "display_data",
          "data": {
            "text/plain": [
              "<Figure size 640x480 with 1 Axes>"
            ],
            "image/png": "[encoded data removed]"
          },
          "metadata": {}
        }
      ],
      "source": [
        "# Run this cell without modification to get a sense of the environment.\n",
        "tmp_env = gym.make('FrozenLake8x8-v1', render_mode=\"rgb_array\")\n",
        "tmp_env.reset()\n",
        "_ = plt.imshow(tmp_env.render())"
      ]
    },
    {
      "cell_type": "markdown",
      "metadata": {
        "id": "DUway3h4LNpj"
      },
      "source": [
        "### Section 1.2: Play the environment with random actions\n",
        "\n",
        "You need to know\n",
        "\n",
        "1. How to step the environment;\n",
        "2. How to rollout a complete episode."
      ]
    },
    {
      "cell_type": "code",
      "execution_count": 6,
      "metadata": {
        "scrolled": true,
        "colab": {
          "base_uri": "https://localhost:8080/"
        },
        "id": "ZRYYP8KYLNpj",
        "outputId": "c6f20cb8-d337-4ed8-90bb-8771dd57aa6c"
      },
      "outputs": [
        {
          "output_type": "stream",
          "name": "stdout",
          "text": [
            "  (Down)\n",
            "SFFFFFFF\n",
            "FFFFFFFF\n",
            "FFFHFFFF\n",
            "FFFFFHFF\n",
            "FFFHFFFF\n",
            "F\u001b[41mH\u001b[0mHFFFHF\n",
            "FHFFHFHF\n",
            "FFFHFFFG\n",
            "\n",
            "Current observation: 41\n",
            "Current reward: 0.0\n",
            "Whether we are done: True\n",
            "info: {'prob': 0.3333333333333333}\n"
          ]
        }
      ],
      "source": [
        "# Solve the TODOs and remove `pass`\n",
        "\n",
        "# Run 1000 steps for test, terminate if done.\n",
        "# You can run this cell multiples times.\n",
        "env.reset(seed=0)\n",
        "\n",
        "while True:\n",
        "    # Take random action\n",
        "    # TODO: Uncomment next two lines\n",
        "    observation, reward, terminated, truncated, info = env.step(env.action_space.sample())\n",
        "    done = terminated or truncated\n",
        "\n",
        "    # Render the environment.\n",
        "    # You will see the visualization of the behaviors of the agent\n",
        "    # if you are using local machine to run this notebook.\n",
        "    print(env.render())\n",
        "\n",
        "    print(\"Current observation: {}\\nCurrent reward: {}\\n\"\n",
        "          \"Whether we are done: {}\\ninfo: {}\".format(\n",
        "        observation, reward, done, info\n",
        "    ))\n",
        "\n",
        "    wait(sleep=0.1)\n",
        "\n",
        "    # TODO: Terminate the loop if done\n",
        "    if done:\n",
        "        break\n"
      ]
    },
    {
      "cell_type": "markdown",
      "metadata": {
        "id": "Cl28UmGvLNpk"
      },
      "source": [
        "### Section 1.3: Define the evaluation function to value the random baseline\n",
        "\n",
        "Now we need to define an evaluation function to evaluate a given policy.\n",
        "\n",
        "As a reminder, you should create a `FrozenLake8x8-v1` environment instance by default, reset it after each episode (and at the beginning), step the environment, and terminate the episode if done. According to Gym v26 update,\n",
        "\n",
        "After implementing the `evaluate` function, run the next cell to check whether the function is working."
      ]
    },
    {
      "cell_type": "code",
      "execution_count": 7,
      "metadata": {
        "id": "wtF4ZR6jLNpk"
      },
      "outputs": [],
      "source": [
        "# Solve the TODOs and remove `pass`\n",
        "\n",
        "def _render_helper(env):\n",
        "    print(env.render())\n",
        "    wait(sleep=0.05)\n",
        "\n",
        "\n",
        "def evaluate(\n",
        "    policy: Callable,\n",
        "    num_episodes: int,\n",
        "    seed: int = 0,\n",
        "    env_name: str = 'FrozenLake8x8-v1',\n",
        "    render: bool = False,\n",
        "    render_mode: str = 'ansi',\n",
        ") -> float:\n",
        "    \"\"\"This function evaluates the given policy and returns the\n",
        "    average episodic return across #num_episodes episodes.\n",
        "    We use `seed` argument for testing purpose.\n",
        "    You should pass the tests in the next cell.\n",
        "\n",
        "    :param policy: a function whose input is an integer (observation)\n",
        "    :param num_episodes: number of episodes you wish to run\n",
        "    :param seed: an integer, used for testing.\n",
        "    :param env_name: the name of the environment\n",
        "    :param render: a boolean flag. If true, please call _render_helper\n",
        "    function.\n",
        "    :param render_mode: a string specifies the render mode if render=True.\n",
        "    :return: the averaged episode reward of the given policy.\n",
        "    \"\"\"\n",
        "\n",
        "    # Create environment (according to env_name, we will use env other than 'FrozenLake8x8-v1')\n",
        "    env = gym.make(env_name, render_mode=render_mode if render else None)\n",
        "\n",
        "    # Build inner loop to run.\n",
        "    # For each episode, do not set the limit.\n",
        "    # Only terminate episode (reset environment) when done = True.\n",
        "    # The episode reward is the sum of all rewards happen within one episode.\n",
        "    # Call the helper function `render(env)` to render\n",
        "    rewards = []\n",
        "    for i in range(num_episodes):\n",
        "        # reset the environment\n",
        "        obs, info = env.reset(seed=seed + i)\n",
        "        action = policy(obs)\n",
        "\n",
        "        ep_reward = 0\n",
        "        while True:\n",
        "            # TODO: run the environment and terminate it if done, collect the\n",
        "            # reward at each step and sum them to the episode reward.\n",
        "            obs, reward, terminated, truncated, info = env.step(action)\n",
        "            done = terminated or truncated\n",
        "\n",
        "            action = policy(obs)\n",
        "            ep_reward += reward\n",
        "            if render:\n",
        "                _render_helper(env)\n",
        "            if done:\n",
        "                break\n",
        "\n",
        "        rewards.append(ep_reward)\n",
        "\n",
        "    return float(np.mean(rewards))\n",
        "\n",
        "# TODO: Run next cell to test your implementation!"
      ]
    },
    {
      "cell_type": "code",
      "execution_count": 8,
      "metadata": {
        "colab": {
          "base_uri": "https://localhost:8080/"
        },
        "id": "uzQkyN2-LNpk",
        "outputId": "69256f4a-771e-43c1-b550-aea32672fd79"
      },
      "outputs": [
        {
          "output_type": "stream",
          "name": "stdout",
          "text": [
            "Test Passed!\n",
            "\n",
            "As a baseline, the mean episode reward of a hand-craft agent is:  0.046\n"
          ]
        }
      ],
      "source": [
        "# Run this cell without modification\n",
        "\n",
        "# Run this cell to test the correctness of your implementation of `evaluate`.\n",
        "LEFT = 0\n",
        "DOWN = 1\n",
        "RIGHT = 2\n",
        "UP = 3\n",
        "\n",
        "\n",
        "def expert(obs):\n",
        "    \"\"\"Go down if agent at the right edge, otherwise go right.\"\"\"\n",
        "    return DOWN if (obs + 1) % 8 == 0 else RIGHT\n",
        "\n",
        "\n",
        "def assert_equal(seed, value, env_name):\n",
        "    ret = evaluate(expert, 1000, seed, env_name=env_name)\n",
        "    assert ret == value, \\\n",
        "        \"When evaluate on seed {}~{} in {} environment, the \" \\\n",
        "        \"averaged reward should be {}. But you get {}.\" \\\n",
        "        \"\".format(seed, seed + 1000, env_name, value, ret)\n",
        "\n",
        "\n",
        "assert_equal(0, 0.046, 'FrozenLake8x8-v1')\n",
        "assert_equal(1000, 0.047, 'FrozenLake8x8-v1')\n",
        "assert_equal(2000, 0.065, 'FrozenLake8x8-v1')\n",
        "\n",
        "assert_equal(0, 0.024, 'FrozenLake-v1')\n",
        "assert_equal(1000, 0.034, 'FrozenLake-v1')\n",
        "assert_equal(2000, 0.035, 'FrozenLake-v1')\n",
        "\n",
        "print(\"Test Passed!\")\n",
        "print(\"\\nAs a baseline, the mean episode reward of a hand-craft \"\n",
        "      \"agent is: \", evaluate(expert, 1000))"
      ]
    },
    {
      "cell_type": "markdown",
      "metadata": {
        "id": "ITpjtZloLNpk"
      },
      "source": [
        "Congratulation! You have finished section 1 (if and only if not error happens above)."
      ]
    },
    {
      "cell_type": "markdown",
      "metadata": {
        "id": "za2_hu17LNpk"
      },
      "source": [
        "------\n",
        "\n",
        "## Section 2: Model-based Tabular RL\n",
        "\n",
        "(65/100 points)\n",
        "\n",
        "We have learned how to use the Gym environment to run an episode, as well as how to interact between the agent (policy) and environment via `env.step(action)` to collect observation, reward, done, and possible extra information.\n",
        "\n",
        "Now we need to build the basic tabular RL algorithm to solve this environment. **Note that compared to the model-free methods in the Sec.3, the algorithms in this section needs to access the internal information of the environment, namely the transition dynamics**.\n",
        "\n",
        "In our case, given a state and an action, we need to know which state current environment will jump to, the probability of this transition, and the reward of the transition. You will find that we provide you a helper function `self._get_transitions(state, action)` that takes state and action as input and return you a list of possible transitions.\n",
        "\n",
        "First, we will implement an abstract class to represent a Trainer. Though this seems to be over-complex for tabular RL, we will use the same framework in the future assignments. So it would be helpful for you to get familiar with how to implement an RL algorithm in the class-oriented programming style."
      ]
    },
    {
      "cell_type": "code",
      "execution_count": 9,
      "metadata": {
        "id": "r9YhW37WLNpk"
      },
      "outputs": [],
      "source": [
        "# Run this cell without modification\n",
        "\n",
        "class TabularRLTrainerAbstract:\n",
        "    \"\"\"This is an abstract class for tabular RL trainer. We will subclass this class\n",
        "     to implement specific algorithm, so that we can reuse the codes like\n",
        "    getting the dynamic of the environment (self._get_transitions()) or rendering the\n",
        "    learned policy (self.render()).\"\"\"\n",
        "\n",
        "    def __init__(self, env_name='FrozenLake8x8-v1', model_based=True):\n",
        "        self.env_name = env_name\n",
        "        self.env = gym.make(self.env_name)\n",
        "        self.action_dim = self.env.action_space.n\n",
        "        self.obs_dim = self.env.observation_space.n\n",
        "\n",
        "        self.model_based = model_based\n",
        "\n",
        "        # Define the policy as function that returns the selected action given a state.\n",
        "        self.policy = None\n",
        "\n",
        "        # Define the value table as a numpy array.\n",
        "        self.value_table = None\n",
        "\n",
        "    def _get_transitions(self, state: int, act: int) -> List:\n",
        "        \"\"\"Query the environment to get the transition probability,\n",
        "        reward, the next state, and done given a pair of state and action.\n",
        "        We implement this function for you. But you need to know the\n",
        "        return format of this function.\n",
        "        \"\"\"\n",
        "        self._check_env_name()\n",
        "        assert self.model_based, \"You should not use _get_transitions in \" \\\n",
        "                                 \"model-free algorithm!\"\n",
        "\n",
        "        # call the internal attribute of the environments.\n",
        "        # `transitions` is a list contain all possible next states and the\n",
        "        # probability, reward, and termination indicator corresponding to it\n",
        "        transitions = self.env.unwrapped.P[state][act]\n",
        "\n",
        "        # Given a state-action pair, it is possible\n",
        "        # to have multiple transitions, since the\n",
        "        # environment is not deterministic.\n",
        "        # The return of this function: a list of dicts\n",
        "        ret = []\n",
        "        for prob, next_state, reward, done in transitions:\n",
        "            ret.append({\n",
        "                \"prob\": prob,\n",
        "                \"next_state\": next_state,\n",
        "                \"reward\": reward,\n",
        "                \"done\": done\n",
        "            })\n",
        "        return ret\n",
        "\n",
        "    def _check_env_name(self):\n",
        "        assert self.env_name.startswith('FrozenLake')\n",
        "\n",
        "    def print_table(self):\n",
        "        \"\"\"print beautiful table, only work for FrozenLake8X8-v1 env. We\n",
        "        write this function for you.\"\"\"\n",
        "        self._check_env_name()\n",
        "        print_table(self.value_table)\n",
        "\n",
        "    def train(self):\n",
        "        \"\"\"Conduct one iteration of learning.\"\"\"\n",
        "        raise NotImplementedError(\"You need to override the \"\n",
        "                                  \"Trainer.train() function.\")\n",
        "\n",
        "    def evaluate(self, seed=1000):\n",
        "        \"\"\"Use the function you write to evaluate current policy.\n",
        "        Return the mean episode reward of 1000 episodes when seed=0.\"\"\"\n",
        "        result = evaluate(self.policy, seed=seed, num_episodes=1000, env_name=self.env_name)\n",
        "        return result\n",
        "\n",
        "    def render(self, seed=1000):\n",
        "        \"\"\"Reuse your evaluate function, render current policy\n",
        "        for one episode when seed=0\"\"\"\n",
        "        evaluate(self.policy, seed=seed, num_episodes=1, render=True, env_name=self.env_name)"
      ]
    },
    {
      "cell_type": "code",
      "execution_count": 10,
      "metadata": {
        "colab": {
          "base_uri": "https://localhost:8080/"
        },
        "id": "51_3hVoCLNpk",
        "outputId": "948def4c-f6af-4a6a-c1f0-3dc03c0ead77"
      },
      "outputs": [
        {
          "output_type": "stream",
          "name": "stdout",
          "text": [
            "The return transitions is a <class 'list'>.\n",
            "\n",
            "[{'prob': 0.3333333333333333, 'next_state': 0, 'reward': 0.0, 'done': False}, {'prob': 0.3333333333333333, 'next_state': 0, 'reward': 0.0, 'done': False}, {'prob': 0.3333333333333333, 'next_state': 8, 'reward': 0.0, 'done': False}]\n"
          ]
        }
      ],
      "source": [
        "# Run this cell without modification\n",
        "\n",
        "# Run trainer._get_transitions and give you a sense of how it works.\n",
        "test_trainer = TabularRLTrainerAbstract()\n",
        "transitions = test_trainer._get_transitions(state=0, act=0)\n",
        "print(f\"The return transitions is a {type(transitions)}.\\n\\n{transitions}\")"
      ]
    },
    {
      "cell_type": "markdown",
      "metadata": {
        "id": "vi2viNwwLNpk"
      },
      "source": [
        "### Section 2.1: Policy Iteration\n",
        "\n",
        "Recall the process of policy iteration:\n",
        "\n",
        "1. Update the state value function, given all possible transitions at current state of the environment.\n",
        "2. Find the best policy that earns the highest value under current state value function.\n",
        "3. If the best policy is identical to the previous one then stop the training. Otherwise, return to step 1.\n",
        "\n",
        "In step 1, update the state value function by\n",
        "\n",
        "$v_{k+1} = E_{s'}[r(s, a)+\\gamma v_{k}(s')]$\n",
        "\n",
        "wherein the $a$ is given by current policy, $s'$ is next state, $r$ is the reward, $v_{k}(s')$ is the next state value given by the old (not updated yet) value function.\n",
        "The expectation is computed among all possible transitions given a state and action pair (As the environment is not deterministic, it's possible to transit to different next states even given the same state-action pair).\n",
        "Note that the new value $v_{k+1}$ should be temporarily stored at some places, instead of\n",
        "\n",
        "In step 2, the best policy is the one that takes the action with maximal expected return given a state:\n",
        "\n",
        "$a = {argmax}_a E_{s'}[r(s, a) + \\gamma v_{k}(s')]$\n",
        "\n",
        "Policy iteration algorithm has an outer loop (update policy, step 1 to 3) and an inner loop (fit the value function, within step 1).\n",
        "\n",
        "In each outer loop, we call once `trainer.train()`, where we call `trainer.update_value_function()` once to update the value function (the state value table).\n",
        "\n",
        "After that we call `trainer.update_policy()` to update the current policy.\n",
        "\n",
        "`trainer` object has a `trainer.policy` attribute, which is a function that takes observation as input and returns an action.\n",
        "\n",
        "You should implement the trainer following the framework we already wrote for you. Please carefully go through the codes and finish all `TODO` in it."
      ]
    },
    {
      "cell_type": "code",
      "execution_count": 18,
      "metadata": {
        "id": "Z1XL8REQLNpl"
      },
      "outputs": [],
      "source": [
        "# Solve the TODOs and remove `pass`\n",
        "\n",
        "class PolicyIterationTrainer(TabularRLTrainerAbstract):\n",
        "    def __init__(self, gamma=1.0, eps=1e-10, env_name='FrozenLake8x8-v1'):\n",
        "        super(PolicyIterationTrainer, self).__init__(env_name)\n",
        "\n",
        "        # Discount factor\n",
        "        self.gamma = gamma\n",
        "\n",
        "        # Value function convergence criterion\n",
        "        self.eps = eps\n",
        "\n",
        "        # The **value table** for each possible observation\n",
        "        self.value_table: np.ndarray = np.zeros((self.obs_dim,))\n",
        "\n",
        "        # TODO: you need to implement a uniform random policy at the beginning.\n",
        "        # self.policy is a python function that takes an integer (the observation)\n",
        "        # as input and return an integer (action).\n",
        "        # You can use self.action_dim to get the dimension (range)\n",
        "        # of the action. An action is an integer in range\n",
        "        # [0, ..., self.action_dim - 1]\n",
        "        # Note: policy should be a deterministic function. That is, given a state,\n",
        "        # it should always return the same action.\n",
        "        # self.policy: Callable = None\n",
        "        policy_table = np.random.randint(self.action_dim, size=self.obs_dim)\n",
        "        self.policy: Callable = lambda obs: policy_table[obs]\n",
        "\n",
        "        # test your random policy\n",
        "        test_random_policy(self.policy, self.env)\n",
        "\n",
        "    def train(self):\n",
        "        \"\"\"Conduct one iteration of learning.\"\"\"\n",
        "        # TODO: self.value_table may be need to be reset to zeros.\n",
        "        # If you think it should, than do it. If not, then go ahead.\n",
        "\n",
        "        self.update_value_function()\n",
        "        self.update_policy()\n",
        "\n",
        "    def update_value_function(self):\n",
        "        count = 0  # count the steps of value updates\n",
        "        while True:\n",
        "            old_table = self.value_table.copy()\n",
        "\n",
        "            for state in range(self.obs_dim):\n",
        "                action = self.policy(state)\n",
        "                transition_list = self._get_transitions(state, action)\n",
        "\n",
        "                state_value = 0\n",
        "                # Iterate over all possible next states given a state-action pair.\n",
        "                for transition in transition_list:\n",
        "                    prob = transition['prob']\n",
        "                    reward = transition['reward']\n",
        "                    next_state = transition['next_state']\n",
        "                    done = transition['done']\n",
        "\n",
        "                    # TODO: compute state_value\n",
        "                    # hint: you should use reward, self.gamma, old_table, prob,\n",
        "                    # and next_state to compute the state value\n",
        "                    if done:\n",
        "                      state_value += prob * reward\n",
        "                    else:\n",
        "                      state_value += prob * (reward + self.gamma * old_table[next_state])\n",
        "\n",
        "                # update the state value\n",
        "                self.value_table[state] = state_value\n",
        "\n",
        "            # TODO: Compare the old_table and current table to\n",
        "            #  decide whether to break the value update process.\n",
        "            # hint: you should use self.eps, old_table and self.value_table\n",
        "            # should_break: bool = None\n",
        "            diff = np.sum(np.abs(old_table - self.value_table))\n",
        "            should_break: bool = (diff < self.eps)\n",
        "\n",
        "            if should_break:\n",
        "                print(\"[DEBUG]\\tThe value table was updated for {} steps. \"\n",
        "                      \"Difference between new and old table is: {:.4f}\".format(\n",
        "                    count, np.sum(np.abs(old_table - self.value_table))\n",
        "                ))\n",
        "                break\n",
        "            count += 1\n",
        "            if count > 6000:\n",
        "                raise ValueError(\"Clearly your code has problem. Check it!\")\n",
        "\n",
        "    def update_policy(self):\n",
        "        \"\"\"You need to define a new policy function, given current\n",
        "        value function. The best action for a given state is the one that\n",
        "        has the highest expected return.\n",
        "\n",
        "        To optimize computing efficiency, we introduce a policy table,\n",
        "        which is a numpy array taking state as index and return the action given a state.\n",
        "        \"\"\"\n",
        "        policy_table: np.ndarray = np.zeros([self.obs_dim, ], dtype=int)\n",
        "\n",
        "        for state in range(self.obs_dim):\n",
        "            state_action_values = [0] * self.action_dim\n",
        "\n",
        "            # TODO: assign the action with greatest state-action value\n",
        "            # to policy_table[state].\n",
        "            # Hint:\n",
        "            #  You should use the value table, gamma, reward, as well as\n",
        "            #  the return from self._get_transitions() to compute the\n",
        "            #  state-action value first before getting the action.\n",
        "            #  Bellman equation may help.\n",
        "            best_action = None\n",
        "            best_value = float('-inf')\n",
        "            for action in range(self.action_dim):\n",
        "              q_value = 0.\n",
        "              transition_list = self._get_transitions(state, action)\n",
        "              for transition in transition_list:\n",
        "                prob = transition['prob']\n",
        "                reward = transition['reward']\n",
        "                next_state = transition['next_state']\n",
        "                done = transition['done']\n",
        "\n",
        "                if done:\n",
        "                  q_value += prob * reward\n",
        "                else:\n",
        "                  q_value += prob * (reward + self.gamma * self.value_table[next_state])\n",
        "\n",
        "              state_action_values[action] = q_value\n",
        "\n",
        "            best_action = np.argmax(state_action_values)\n",
        "\n",
        "            policy_table[state] = best_action\n",
        "\n",
        "        self.policy = lambda obs: policy_table[obs]\n"
      ]
    },
    {
      "cell_type": "markdown",
      "metadata": {
        "id": "0o26ZBWlLNpl"
      },
      "source": [
        "Now we have built the Trainer class for policy iteration algorithm. In the following few cells, we will train the agent to solve the problem and evaluate its performance."
      ]
    },
    {
      "cell_type": "code",
      "execution_count": 19,
      "metadata": {
        "id": "mC9AXmiJLNpl"
      },
      "outputs": [],
      "source": [
        "# Solve the TODOs and remove `pass`\n",
        "\n",
        "# Managing configurations of your experiments is important for your research.\n",
        "default_pi_config = dict(\n",
        "    max_iteration=1000,\n",
        "    evaluate_interval=1,\n",
        "    gamma=1.0,\n",
        "    eps=1e-10\n",
        ")\n",
        "\n",
        "\n",
        "def policy_iteration(train_config=None):\n",
        "\n",
        "    # Prepare a config dict\n",
        "    config = default_pi_config.copy()\n",
        "    if train_config is not None:\n",
        "        config.update(train_config)\n",
        "\n",
        "    # Initialize the trainer\n",
        "    trainer = PolicyIterationTrainer(gamma=config['gamma'], eps=config['eps'])\n",
        "\n",
        "    # Initialize an array as the policy mapping obs to action.\n",
        "    old_policy = np.zeros(trainer.obs_dim, dtype=int)\n",
        "    old_policy.fill(-1)\n",
        "\n",
        "    for i in range(config['max_iteration']):\n",
        "\n",
        "        # train the agent\n",
        "        trainer.train()\n",
        "\n",
        "        # TODO: compare the new policy with old policy to check whether\n",
        "        #  we should stop. If new and old policy have same output given any\n",
        "        #  observation, then we consider the algorithm is converged and\n",
        "        #  should be stopped.\n",
        "        # should_stop: bool = False\n",
        "        new_policy = np.zeros(trainer.obs_dim, dtype=int)\n",
        "        for state in range(trainer.obs_dim):\n",
        "          new_policy[state] = trainer.policy(state)\n",
        "        should_stop: bool = np.array_equal(new_policy, old_policy)\n",
        "\n",
        "        if should_stop:\n",
        "            print(\"We found policy is not changed anymore at \"\n",
        "                  \"iteration {}. Current mean episode reward \"\n",
        "                  \"is {}. Stop training.\".format(i, trainer.evaluate()))\n",
        "            break\n",
        "        old_policy = new_policy\n",
        "\n",
        "        # evaluate the result\n",
        "        if i % config['evaluate_interval'] == 0:\n",
        "            print(\n",
        "                \"[INFO]\\tAfter {} iterations, current policy has mean episode reward {}.\"\n",
        "                \"\".format(i, trainer.evaluate()))\n",
        "\n",
        "            if i > 20:\n",
        "                print(\"You sure your codes is OK? It shouldn't take so many \"\n",
        "                      \"({}) iterations to train a policy iteration \"\n",
        "                      \"agent.\".format(i))\n",
        "\n",
        "    assert trainer.evaluate() > 0.8, \\\n",
        "        \"We expect to get the mean episode reward greater than 0.8. \" \\\n",
        "        \"But you get: {}. Please check your codes.\".format(trainer.evaluate())\n",
        "\n",
        "    return trainer\n"
      ]
    },
    {
      "cell_type": "code",
      "execution_count": 20,
      "metadata": {
        "colab": {
          "base_uri": "https://localhost:8080/"
        },
        "id": "lpytRiZXLNpl",
        "outputId": "34db2bcf-f315-4560-8cf1-e64069274837"
      },
      "outputs": [
        {
          "output_type": "stream",
          "name": "stdout",
          "text": [
            "[DEBUG]\tThe value table was updated for 501 steps. Difference between new and old table is: 0.0000\n",
            "[INFO]\tAfter 0 iterations, current policy has mean episode reward 0.671.\n",
            "[DEBUG]\tThe value table was updated for 1059 steps. Difference between new and old table is: 0.0000\n",
            "[INFO]\tAfter 1 iterations, current policy has mean episode reward 0.875.\n",
            "[DEBUG]\tThe value table was updated for 1391 steps. Difference between new and old table is: 0.0000\n",
            "[INFO]\tAfter 2 iterations, current policy has mean episode reward 0.788.\n",
            "[DEBUG]\tThe value table was updated for 985 steps. Difference between new and old table is: 0.0000\n",
            "[INFO]\tAfter 3 iterations, current policy has mean episode reward 0.705.\n",
            "[DEBUG]\tThe value table was updated for 1199 steps. Difference between new and old table is: 0.0000\n",
            "[INFO]\tAfter 4 iterations, current policy has mean episode reward 0.884.\n",
            "[DEBUG]\tThe value table was updated for 89 steps. Difference between new and old table is: 0.0000\n",
            "[INFO]\tAfter 5 iterations, current policy has mean episode reward 0.882.\n",
            "[DEBUG]\tThe value table was updated for 0 steps. Difference between new and old table is: 0.0000\n",
            "We found policy is not changed anymore at iteration 6. Current mean episode reward is 0.882. Stop training.\n"
          ]
        }
      ],
      "source": [
        "# Run this cell without modification\n",
        "\n",
        "# It may be confusing to call a trainer agent. But that's what we normally do.\n",
        "pi_agent = policy_iteration()"
      ]
    },
    {
      "cell_type": "code",
      "execution_count": 21,
      "metadata": {
        "colab": {
          "base_uri": "https://localhost:8080/"
        },
        "id": "oHf7Aoc-LNpl",
        "outputId": "98822fd8-00c3-494b-dc88-ebeb6cc03f93"
      },
      "outputs": [
        {
          "output_type": "stream",
          "name": "stdout",
          "text": [
            "Your policy iteration agent achieve 0.882 mean episode reward. The optimal score should be > 0.8.\n"
          ]
        }
      ],
      "source": [
        "# Run this cell without modification\n",
        "\n",
        "print(\"Your policy iteration agent achieve {} mean episode reward. The optimal score \"\n",
        "      \"should be > 0.8.\".format(pi_agent.evaluate()))"
      ]
    },
    {
      "cell_type": "code",
      "execution_count": 22,
      "metadata": {
        "colab": {
          "base_uri": "https://localhost:8080/"
        },
        "id": "gzTs90a8LNpl",
        "outputId": "00b98277-91ff-4dd7-b8bd-da45397bc1f1"
      },
      "outputs": [
        {
          "output_type": "stream",
          "name": "stdout",
          "text": [
            "  (Right)\n",
            "SFFFFFFF\n",
            "FFFFFFFF\n",
            "FFFHFFFF\n",
            "FFFFFHFF\n",
            "FFFHFFFF\n",
            "FHHFFFHF\n",
            "FHFFHFHF\n",
            "FFFHFFF\u001b[41mG\u001b[0m\n",
            "\n"
          ]
        }
      ],
      "source": [
        "# Run this cell without modification\n",
        "\n",
        "pi_agent.render()"
      ]
    },
    {
      "cell_type": "code",
      "execution_count": 23,
      "metadata": {
        "colab": {
          "base_uri": "https://localhost:8080/"
        },
        "id": "rw8tz7vZLNpl",
        "outputId": "b9e0776e-9ebd-427a-b682-d60f1915fd2a"
      },
      "outputs": [
        {
          "output_type": "stream",
          "name": "stdout",
          "text": [
            "+-----+-----+-----State Value Mapping-----+-----+-----+\n",
            "|     |   0 |   1 |   2 |   3 |   4 |   5 |   6 |   7 |\n",
            "|-----+-----+-----+-----+-----+-----+-----+-----+-----|\n",
            "| 0   |1.000|1.000|1.000|1.000|1.000|1.000|1.000|1.000|\n",
            "|     |     |     |     |     |     |     |     |     |\n",
            "+-----+-----+-----+-----+-----+-----+-----+-----+-----+\n",
            "| 1   |1.000|1.000|1.000|1.000|1.000|1.000|1.000|1.000|\n",
            "|     |     |     |     |     |     |     |     |     |\n",
            "+-----+-----+-----+-----+-----+-----+-----+-----+-----+\n",
            "| 2   |1.000|0.978|0.926|0.000|0.857|0.946|0.982|1.000|\n",
            "|     |     |     |     |     |     |     |     |     |\n",
            "+-----+-----+-----+-----+-----+-----+-----+-----+-----+\n",
            "| 3   |1.000|0.935|0.801|0.475|0.624|0.000|0.945|1.000|\n",
            "|     |     |     |     |     |     |     |     |     |\n",
            "+-----+-----+-----+-----+-----+-----+-----+-----+-----+\n",
            "| 4   |1.000|0.826|0.542|0.000|0.539|0.611|0.852|1.000|\n",
            "|     |     |     |     |     |     |     |     |     |\n",
            "+-----+-----+-----+-----+-----+-----+-----+-----+-----+\n",
            "| 5   |1.000|0.000|0.000|0.168|0.383|0.442|0.000|1.000|\n",
            "|     |     |     |     |     |     |     |     |     |\n",
            "+-----+-----+-----+-----+-----+-----+-----+-----+-----+\n",
            "| 6   |1.000|0.000|0.195|0.121|0.000|0.332|0.000|1.000|\n",
            "|     |     |     |     |     |     |     |     |     |\n",
            "+-----+-----+-----+-----+-----+-----+-----+-----+-----+\n",
            "| 7   |1.000|0.732|0.463|0.000|0.277|0.555|0.777|0.000|\n",
            "|     |     |     |     |     |     |     |     |     |\n",
            "+-----+-----+-----+-----+-----+-----+-----+-----+-----+\n",
            "\n"
          ]
        }
      ],
      "source": [
        "# Run this cell without modification\n",
        "\n",
        "pi_agent.print_table()"
      ]
    },
    {
      "cell_type": "markdown",
      "metadata": {
        "id": "M1ql-vLILNpl"
      },
      "source": [
        "Congratulations! You have successfully implemented the policy iteration trainer (if and only if no error happens at the above cells).\n",
        "\n",
        "Here are few further problems for you to investigate:\n",
        "\n",
        "1. What is the impact of the discount factor gamma?\n",
        "2. What is the impact of the value function convergence criterion epsilon?\n",
        "\n",
        "If you are interested in doing more investigation (not limited to these two), feel free to open new cells at the end of this notebook and left a clear trace of your thinking and coding, which leads to extra credit if you do a good job. It's an optional job, and you can ignore it.\n",
        "\n",
        "Now let's continue our journey!"
      ]
    },
    {
      "cell_type": "markdown",
      "metadata": {
        "id": "MzVBRc8tLNpl"
      },
      "source": [
        "### Section 2.2: Value Iteration\n",
        "\n",
        "Recall the idea of value iteration. We update the state value:\n",
        "\n",
        "$$v_{k+1}(s) = \\max_a E_{s'} [r(s, a) + \\gamma v_{k}(s')]$$\n",
        "\n",
        "wherein the $s'$ is next state, $r$ is the reward, $v_{k}(s')$ is the next state value given by the old (not updated yet) value function. The expectation is computed among all possible transitions (given a state and action pair, it is possible to have many next states, since the environment is not deterministic).\n",
        "\n",
        "The value iteration algorithm does not require an inner loop. It computes the expected return of all possible actions at a given state and uses the maximum of them as the state value. You can imagine it \"pretends\" we already have the optimal policy and run policy iteration based on it. Therefore, we do not need to maintain a policy object in a trainer. We only need to retrieve the optimal policy using the same rule as policy iteration, given current value function.\n",
        "\n",
        "You should implement the trainer following the framework we already wrote for you. Please carefully go through the code and finish all `TODO` in it."
      ]
    },
    {
      "cell_type": "code",
      "execution_count": 24,
      "metadata": {
        "id": "J2Leb2foLNpn"
      },
      "outputs": [],
      "source": [
        "# Solve the TODOs and remove `pass`\n",
        "\n",
        "\n",
        "class ValueIterationTrainer(PolicyIterationTrainer):\n",
        "    \"\"\"Note that we inherit Policy Iteration Trainer, to reuse the\n",
        "    code of update_policy(). It's same since it get optimal policy from\n",
        "    current state-value table (self.table).\n",
        "    \"\"\"\n",
        "\n",
        "    def __init__(self, gamma=1.0, env_name='FrozenLake8x8-v1'):\n",
        "        super(ValueIterationTrainer, self).__init__(gamma, None, env_name)\n",
        "\n",
        "    def train(self):\n",
        "        \"\"\"Conduct one iteration of learning.\"\"\"\n",
        "        # TODO: self.value_table may be need to be reset to zeros.\n",
        "        # If you think it should, than do it. If not, then move on.\n",
        "\n",
        "\n",
        "        # In value iteration, we do not explicit require a\n",
        "        # policy instance to run. We update value function\n",
        "        # directly based on the transitions. Therefore, we\n",
        "        # don't need to run self.update_policy() in each step.\n",
        "        self.update_value_function()\n",
        "\n",
        "    def update_value_function(self):\n",
        "        old_table = self.value_table.copy()\n",
        "\n",
        "        for state in range(self.obs_dim):\n",
        "            state_value = 0\n",
        "\n",
        "            # TODO: Compute the new state value.\n",
        "            # Hint: try to compute the state-action value first\n",
        "            for action in range(self.action_dim):\n",
        "              q_val = 0.0\n",
        "              transition_list = self._get_transitions(state, action)\n",
        "              for transition in transition_list:\n",
        "                prob = transition['prob']\n",
        "                reward = transition['reward']\n",
        "                next_state = transition['next_state']\n",
        "                done = transition['done']\n",
        "                if done:\n",
        "                  q_val += prob * reward\n",
        "                else:\n",
        "                  q_val += prob * (reward + self.gamma * old_table[next_state])\n",
        "              if q_val > state_value:\n",
        "                state_value = q_val\n",
        "\n",
        "            self.value_table[state] = state_value\n",
        "\n",
        "        # Till now the one-step value update is finished.\n",
        "        # You can see that we do not use an inner loop to update\n",
        "        # the value function like what we did in the policy iteration.\n",
        "        # This is because to compute the state value, which is\n",
        "        # an expectation among all possible action given by a\n",
        "        # specified policy, we **pretend** we already have the optimal\n",
        "        # policy (the max operation). Therefore we don't need to\n",
        "        # compute the state-action values for those actions that will not\n",
        "        # be selected by the policy.\n",
        "\n",
        "    def evaluate(self):\n",
        "        \"\"\"Since in value iteration we do not maintain a policy function,\n",
        "        so we need to retrieve it when we need it.\"\"\"\n",
        "        self.update_policy()\n",
        "        return super().evaluate()\n",
        "\n",
        "    def render(self):\n",
        "        \"\"\"Since in value iteration we do not maintain a policy function,\n",
        "        so we need to retrieve it when we need it.\"\"\"\n",
        "        self.update_policy()\n",
        "        return super().render()\n"
      ]
    },
    {
      "cell_type": "code",
      "execution_count": 25,
      "metadata": {
        "id": "X5XdSKVdLNpn"
      },
      "outputs": [],
      "source": [
        "# Solve the TODOs and remove `pass`\n",
        "\n",
        "# Managing configurations of your experiments is important for your research.\n",
        "default_vi_config = dict(\n",
        "    max_iteration=10000,\n",
        "    evaluate_interval=100,  # don't need to update policy each iteration\n",
        "    gamma=1.0,\n",
        "    eps=1e-10\n",
        ")\n",
        "\n",
        "\n",
        "def value_iteration(train_config=None):\n",
        "    config = default_vi_config.copy()\n",
        "    if train_config is not None:\n",
        "        config.update(train_config)\n",
        "\n",
        "    # [TODO] initialize Value Iteration Trainer. Remember to pass\n",
        "    #  config['gamma'] to it.\n",
        "    # trainer: TabularRLTrainerAbstract = None\n",
        "    trainer: TabularRLTrainerAbstract = ValueIterationTrainer(gamma=config['gamma'])\n",
        "\n",
        "    old_state_value_table = trainer.value_table.copy()\n",
        "\n",
        "    def derive_policy_from_value(v_table: np.ndarray) -> np.ndarray:\n",
        "        policy_table: np.ndarray = np.zeros([trainer.obs_dim, ], dtype=int)\n",
        "        for s in range(trainer.obs_dim):\n",
        "            q_values = [0] * trainer.action_dim\n",
        "            for a in range(trainer.action_dim):\n",
        "                transition_list = trainer._get_transitions(s, a)\n",
        "                for transition in transition_list:\n",
        "                    prob = transition['prob']\n",
        "                    reward = transition['reward']\n",
        "                    next_state = transition['next_state']\n",
        "                    done = transition['done']\n",
        "                    if done:\n",
        "                        q_values[a] += prob * reward\n",
        "                    else:\n",
        "                        q_values[a] += prob * (reward + config['gamma'] * v_table[next_state])\n",
        "            policy_table[s] = np.argmax(q_values)\n",
        "        return policy_table\n",
        "\n",
        "    for i in range(config['max_iteration']):\n",
        "        # train the agent\n",
        "        trainer.train()\n",
        "\n",
        "        # evaluate the result\n",
        "        if i % config['evaluate_interval'] == 0:\n",
        "            print(\"[INFO]\\tIn {} iteration, current \"\n",
        "                  \"mean episode reward is {}.\".format(\n",
        "                i, trainer.evaluate()\n",
        "            ))\n",
        "\n",
        "            # TODO: Compare the new policy with old policy to check should\n",
        "            #  we stop.\n",
        "            # Hint: If new and old policy have same output given any\n",
        "            #  observation, them we consider the algorithm is converged and\n",
        "            #  should be stopped.\n",
        "            # should_stop = None\n",
        "\n",
        "            # Derive \"old\" policy vs. \"new\" policy from their respective value tables\n",
        "            old_policy = derive_policy_from_value(old_state_value_table)\n",
        "            new_policy = derive_policy_from_value(trainer.value_table)\n",
        "\n",
        "            # If the derived policies are identical, we say we have converged\n",
        "            should_stop = np.array_equal(old_policy, new_policy)\n",
        "\n",
        "\n",
        "            if should_stop:\n",
        "                print(\"We found policy is not changed anymore at \"\n",
        "                      \"iteration {}. Current mean episode reward \"\n",
        "                      \"is {}. Stop training.\".format(i, trainer.evaluate()))\n",
        "                break\n",
        "\n",
        "            if i > 3000:\n",
        "                print(\"You sure your codes is OK? It shouldn't take so many \"\n",
        "                      \"({}) iterations to train a policy iteration \"\n",
        "                      \"agent.\".format(\n",
        "                    i))\n",
        "\n",
        "        old_state_value_table = trainer.value_table.copy()\n",
        "\n",
        "    assert trainer.evaluate() > 0.8, \\\n",
        "        \"We expect to get the mean episode reward greater than 0.8. \" \\\n",
        "        \"But you get: {}. Please check your codes.\".format(trainer.evaluate())\n",
        "\n",
        "    return trainer\n"
      ]
    },
    {
      "cell_type": "code",
      "execution_count": 26,
      "metadata": {
        "colab": {
          "base_uri": "https://localhost:8080/"
        },
        "id": "i1nbpKGGLNpn",
        "outputId": "338d4c6c-2de6-4080-8da6-f0f74c4929f0"
      },
      "outputs": [
        {
          "output_type": "stream",
          "name": "stdout",
          "text": [
            "[INFO]\tIn 0 iteration, current mean episode reward is 0.0.\n",
            "[INFO]\tIn 100 iteration, current mean episode reward is 0.89.\n",
            "We found policy is not changed anymore at iteration 100. Current mean episode reward is 0.89. Stop training.\n"
          ]
        }
      ],
      "source": [
        "# Run this cell without modification\n",
        "\n",
        "vi_agent = value_iteration()"
      ]
    },
    {
      "cell_type": "code",
      "execution_count": 27,
      "metadata": {
        "colab": {
          "base_uri": "https://localhost:8080/"
        },
        "id": "RtzkWf1vLNpn",
        "outputId": "ad98d6cb-52c0-42b9-a43b-932dc42ed5ee"
      },
      "outputs": [
        {
          "output_type": "stream",
          "name": "stdout",
          "text": [
            "Your value iteration agent achieve 0.89 mean episode reward. The optimal score should be > 0.8.\n"
          ]
        }
      ],
      "source": [
        "# Run this cell without modification\n",
        "\n",
        "print(\"Your value iteration agent achieve {} mean episode reward. The optimal score \"\n",
        "      \"should be > 0.8.\".format(vi_agent.evaluate()))"
      ]
    },
    {
      "cell_type": "code",
      "execution_count": 28,
      "metadata": {
        "colab": {
          "base_uri": "https://localhost:8080/"
        },
        "id": "ViWtr1KGLNpn",
        "outputId": "8e7b324a-baef-4a37-fcb0-9a6569e1c47b"
      },
      "outputs": [
        {
          "output_type": "stream",
          "name": "stdout",
          "text": [
            "  (Right)\n",
            "SFFFFFFF\n",
            "FFFFFFFF\n",
            "FFFHFFFF\n",
            "FFFFFHFF\n",
            "FFFHFFFF\n",
            "FHHFFFHF\n",
            "FHFFHFHF\n",
            "FFFHFFF\u001b[41mG\u001b[0m\n",
            "\n"
          ]
        }
      ],
      "source": [
        "# Run this cell without modification\n",
        "\n",
        "vi_agent.render()"
      ]
    },
    {
      "cell_type": "code",
      "execution_count": 29,
      "metadata": {
        "colab": {
          "base_uri": "https://localhost:8080/"
        },
        "id": "hK4LbQuTLNpn",
        "outputId": "cca55096-86a5-43b6-8049-bfad27330cc3"
      },
      "outputs": [
        {
          "output_type": "stream",
          "name": "stdout",
          "text": [
            "+-----+-----+-----State Value Mapping-----+-----+-----+\n",
            "|     |   0 |   1 |   2 |   3 |   4 |   5 |   6 |   7 |\n",
            "|-----+-----+-----+-----+-----+-----+-----+-----+-----|\n",
            "| 0   |0.646|0.662|0.684|0.708|0.733|0.755|0.773|0.778|\n",
            "|     |     |     |     |     |     |     |     |     |\n",
            "+-----+-----+-----+-----+-----+-----+-----+-----+-----+\n",
            "| 1   |0.642|0.654|0.674|0.697|0.722|0.748|0.778|0.787|\n",
            "|     |     |     |     |     |     |     |     |     |\n",
            "+-----+-----+-----+-----+-----+-----+-----+-----+-----+\n",
            "| 2   |0.620|0.614|0.583|0.000|0.622|0.714|0.782|0.806|\n",
            "|     |     |     |     |     |     |     |     |     |\n",
            "+-----+-----+-----+-----+-----+-----+-----+-----+-----+\n",
            "| 3   |0.577|0.550|0.475|0.303|0.441|0.000|0.772|0.833|\n",
            "|     |     |     |     |     |     |     |     |     |\n",
            "+-----+-----+-----+-----+-----+-----+-----+-----+-----+\n",
            "| 4   |0.506|0.450|0.305|0.000|0.405|0.488|0.707|0.868|\n",
            "|     |     |     |     |     |     |     |     |     |\n",
            "+-----+-----+-----+-----+-----+-----+-----+-----+-----+\n",
            "| 5   |0.451|0.000|0.000|0.118|0.292|0.357|0.000|0.909|\n",
            "|     |     |     |     |     |     |     |     |     |\n",
            "+-----+-----+-----+-----+-----+-----+-----+-----+-----+\n",
            "| 6   |0.414|0.000|0.078|0.065|0.000|0.295|0.000|0.953|\n",
            "|     |     |     |     |     |     |     |     |     |\n",
            "+-----+-----+-----+-----+-----+-----+-----+-----+-----+\n",
            "| 7   |0.395|0.276|0.172|0.000|0.264|0.529|0.764|0.000|\n",
            "|     |     |     |     |     |     |     |     |     |\n",
            "+-----+-----+-----+-----+-----+-----+-----+-----+-----+\n",
            "\n"
          ]
        }
      ],
      "source": [
        "# Run this cell without modification\n",
        "\n",
        "vi_agent.print_table()"
      ]
    },
    {
      "cell_type": "markdown",
      "metadata": {
        "id": "rXs82X4ILNpo"
      },
      "source": [
        "Congratulation! You have successfully implemented the value iteration trainer (if and only if no error happens at the above cells). Few further problems for you to investigate:\n",
        "\n",
        "1. Do you see that some iteration during training yields better rewards than the final one?  Why does that happen?\n",
        "2. What is the impact of the discount factor gamma?\n",
        "3. What is the impact of the value function convergence criterion epsilon?\n",
        "\n",
        "If you are interested in doing more investigation (not limited to these two), feel free to open new cells at the end of this notebook and left a clear trace of your thinking and coding, which leads to extra credit if you do a good job. It's an optional job, and you can ignore it.\n",
        "\n",
        "Now let's continue our journey!"
      ]
    },
    {
      "cell_type": "markdown",
      "metadata": {
        "id": "XRs3zTzyLNpo"
      },
      "source": [
        "### Section 2.3: Compare two model-based agents\n",
        "\n",
        "Now we have two agents: `pi_agent` and `vi_agent`. They are believed to be the optimal policies in this environment."
      ]
    },
    {
      "cell_type": "code",
      "execution_count": 30,
      "metadata": {
        "colab": {
          "base_uri": "https://localhost:8080/"
        },
        "id": "BkLbn2NQLNpo",
        "outputId": "0e80d77e-ae18-418b-ba63-bda952bad5ce"
      },
      "outputs": [
        {
          "output_type": "stream",
          "name": "stdout",
          "text": [
            "Policy Iteration Agent Policy:\n",
            "\n",
            "+-----+-----+-----State Value Mapping-----+-----+-----+\n",
            "|     |   0 |   1 |   2 |   3 |   4 |   5 |   6 |   7 |\n",
            "|-----+-----+-----+-----+-----+-----+-----+-----+-----|\n",
            "| 0   |1.000|1.000|1.000|1.000|1.000|1.000|1.000|1.000|\n",
            "|     |     |     |     |     |     |     |     |     |\n",
            "+-----+-----+-----+-----+-----+-----+-----+-----+-----+\n",
            "| 1   |1.000|1.000|1.000|1.000|1.000|1.000|1.000|1.000|\n",
            "|     |     |     |     |     |     |     |     |     |\n",
            "+-----+-----+-----+-----+-----+-----+-----+-----+-----+\n",
            "| 2   |1.000|0.978|0.926|0.000|0.857|0.946|0.982|1.000|\n",
            "|     |     |     |     |     |     |     |     |     |\n",
            "+-----+-----+-----+-----+-----+-----+-----+-----+-----+\n",
            "| 3   |1.000|0.935|0.801|0.475|0.624|0.000|0.945|1.000|\n",
            "|     |     |     |     |     |     |     |     |     |\n",
            "+-----+-----+-----+-----+-----+-----+-----+-----+-----+\n",
            "| 4   |1.000|0.826|0.542|0.000|0.539|0.611|0.852|1.000|\n",
            "|     |     |     |     |     |     |     |     |     |\n",
            "+-----+-----+-----+-----+-----+-----+-----+-----+-----+\n",
            "| 5   |1.000|0.000|0.000|0.168|0.383|0.442|0.000|1.000|\n",
            "|     |     |     |     |     |     |     |     |     |\n",
            "+-----+-----+-----+-----+-----+-----+-----+-----+-----+\n",
            "| 6   |1.000|0.000|0.195|0.121|0.000|0.332|0.000|1.000|\n",
            "|     |     |     |     |     |     |     |     |     |\n",
            "+-----+-----+-----+-----+-----+-----+-----+-----+-----+\n",
            "| 7   |1.000|0.732|0.463|0.000|0.277|0.555|0.777|0.000|\n",
            "|     |     |     |     |     |     |     |     |     |\n",
            "+-----+-----+-----+-----+-----+-----+-----+-----+-----+\n",
            "\n",
            "\n",
            "Value Iteration Agent Policy:\n",
            "\n",
            "+-----+-----+-----State Value Mapping-----+-----+-----+\n",
            "|     |   0 |   1 |   2 |   3 |   4 |   5 |   6 |   7 |\n",
            "|-----+-----+-----+-----+-----+-----+-----+-----+-----|\n",
            "| 0   |0.646|0.662|0.684|0.708|0.733|0.755|0.773|0.778|\n",
            "|     |     |     |     |     |     |     |     |     |\n",
            "+-----+-----+-----+-----+-----+-----+-----+-----+-----+\n",
            "| 1   |0.642|0.654|0.674|0.697|0.722|0.748|0.778|0.787|\n",
            "|     |     |     |     |     |     |     |     |     |\n",
            "+-----+-----+-----+-----+-----+-----+-----+-----+-----+\n",
            "| 2   |0.620|0.614|0.583|0.000|0.622|0.714|0.782|0.806|\n",
            "|     |     |     |     |     |     |     |     |     |\n",
            "+-----+-----+-----+-----+-----+-----+-----+-----+-----+\n",
            "| 3   |0.577|0.550|0.475|0.303|0.441|0.000|0.772|0.833|\n",
            "|     |     |     |     |     |     |     |     |     |\n",
            "+-----+-----+-----+-----+-----+-----+-----+-----+-----+\n",
            "| 4   |0.506|0.450|0.305|0.000|0.405|0.488|0.707|0.868|\n",
            "|     |     |     |     |     |     |     |     |     |\n",
            "+-----+-----+-----+-----+-----+-----+-----+-----+-----+\n",
            "| 5   |0.451|0.000|0.000|0.118|0.292|0.357|0.000|0.909|\n",
            "|     |     |     |     |     |     |     |     |     |\n",
            "+-----+-----+-----+-----+-----+-----+-----+-----+-----+\n",
            "| 6   |0.414|0.000|0.078|0.065|0.000|0.295|0.000|0.953|\n",
            "|     |     |     |     |     |     |     |     |     |\n",
            "+-----+-----+-----+-----+-----+-----+-----+-----+-----+\n",
            "| 7   |0.395|0.276|0.172|0.000|0.264|0.529|0.764|0.000|\n",
            "|     |     |     |     |     |     |     |     |     |\n",
            "+-----+-----+-----+-----+-----+-----+-----+-----+-----+\n",
            "\n",
            "\n",
            "State value differences:\n",
            "\n",
            "+-----+-----+-----State Value Mapping-----+-----+-----+\n",
            "|     |   0 |   1 |   2 |   3 |   4 |   5 |   6 |   7 |\n",
            "|-----+-----+-----+-----+-----+-----+-----+-----+-----|\n",
            "| 0   |0.354|0.338|0.316|0.292|0.267|0.245|0.227|0.222|\n",
            "|     |     |     |     |     |     |     |     |     |\n",
            "+-----+-----+-----+-----+-----+-----+-----+-----+-----+\n",
            "| 1   |0.358|0.346|0.326|0.303|0.278|0.252|0.222|0.213|\n",
            "|     |     |     |     |     |     |     |     |     |\n",
            "+-----+-----+-----+-----+-----+-----+-----+-----+-----+\n",
            "| 2   |0.380|0.364|0.344|0.000|0.234|0.232|0.200|0.194|\n",
            "|     |     |     |     |     |     |     |     |     |\n",
            "+-----+-----+-----+-----+-----+-----+-----+-----+-----+\n",
            "| 3   |0.423|0.384|0.326|0.172|0.183|0.000|0.173|0.167|\n",
            "|     |     |     |     |     |     |     |     |     |\n",
            "+-----+-----+-----+-----+-----+-----+-----+-----+-----+\n",
            "| 4   |0.494|0.376|0.237|0.000|0.134|0.123|0.145|0.132|\n",
            "|     |     |     |     |     |     |     |     |     |\n",
            "+-----+-----+-----+-----+-----+-----+-----+-----+-----+\n",
            "| 5   |0.549|0.000|0.000|0.050|0.091|0.085|0.000|0.091|\n",
            "|     |     |     |     |     |     |     |     |     |\n",
            "+-----+-----+-----+-----+-----+-----+-----+-----+-----+\n",
            "| 6   |0.586|0.000|0.117|0.056|0.000|0.038|0.000|0.047|\n",
            "|     |     |     |     |     |     |     |     |     |\n",
            "+-----+-----+-----+-----+-----+-----+-----+-----+-----+\n",
            "| 7   |0.605|0.455|0.291|0.000|0.013|0.026|0.013|0.000|\n",
            "|     |     |     |     |     |     |     |     |     |\n",
            "+-----+-----+-----+-----+-----+-----+-----+-----+-----+\n",
            "\n"
          ]
        }
      ],
      "source": [
        "# Run this cell without modification\n",
        "\n",
        "# Print the value tables of these two policies and see if they match each other.\n",
        "pi_policy = {obs: pi_agent.policy(obs) for obs in range(pi_agent.obs_dim)}\n",
        "vi_policy = {obs: vi_agent.policy(obs) for obs in range(vi_agent.obs_dim)}\n",
        "print(\"Policy Iteration Agent Policy:\\n\")\n",
        "pi_agent.print_table()\n",
        "print(\"\\nValue Iteration Agent Policy:\\n\")\n",
        "vi_agent.print_table()\n",
        "print(\"\\nState value differences:\\n\")\n",
        "print_table((pi_agent.value_table - vi_agent.value_table))"
      ]
    },
    {
      "cell_type": "code",
      "execution_count": null,
      "metadata": {
        "id": "A0KF1hAELNpo"
      },
      "outputs": [],
      "source": [
        "# You can do more investigation here if you wish. Leave it blank if you don't.\n"
      ]
    },
    {
      "cell_type": "markdown",
      "metadata": {
        "id": "RG16IY3YLNpu"
      },
      "source": [
        "------\n",
        "\n",
        "## Conclusion and Discussion\n",
        "\n",
        "In this assignment, we learn how to use the gym (now Gymnasium) library, how to use Object Oriented Programming to build a basic tabular RL algorithm.\n",
        "\n",
        "Follow the submission instruction in the README to submit your assignment. Thank you!\n",
        "\n",
        "------"
      ]
    },
    {
      "cell_type": "markdown",
      "metadata": {
        "id": "0lR7y17zLNpu"
      },
      "source": [
        "..."
      ]
    }
  ],
  "metadata": {
    "kernelspec": {
      "display_name": "Python 3",
      "name": "python3"
    },
    "language_info": {
      "codemirror_mode": {
        "name": "ipython",
        "version": 3
      },
      "file_extension": ".py",
      "mimetype": "text/x-python",
      "name": "python",
      "nbconvert_exporter": "python",
      "pygments_lexer": "ipython3",
      "version": "3.11.11"
    },
    "colab": {
      "provenance": [],
      "toc_visible": true,
      "gpuType": "T4"
    },
    "accelerator": "GPU"
  },
  "nbformat": 4,
  "nbformat_minor": 0
}